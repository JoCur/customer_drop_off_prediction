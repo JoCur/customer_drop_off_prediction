{
 "cells": [
  {
   "cell_type": "markdown",
   "id": "ad4becdb",
   "metadata": {},
   "source": [
    "# Beta Bank: predicting customers drop-off\n",
    "\n",
    "Beta Bank customers are leaving: little by little, chipping away every month. The bankers figured out it’s cheaper to save the existing customers rather than to attract new ones.\n",
    "\n",
    "Using the data on clients’ past behavior and termination of contracts with the bank, this project is aimed at predicting whether a customer will leave the bank soon. The dataset contains the following information:\n",
    "\n",
    "``Features``\n",
    "\n",
    "    - RowNumber — data string index\n",
    "\n",
    "    - CustomerId — unique customer identifier\n",
    "\n",
    "    - Surname — surname\n",
    "\n",
    "    - CreditScore — credit score\n",
    "    \n",
    "    - Geography — country of residence\n",
    "    \n",
    "    - Gender — gender\n",
    "    \n",
    "    - Age — age\n",
    "    \n",
    "    - Tenure — period of maturation for a customer’s fixed deposit (years)\n",
    "\n",
    "    - Balance — account balance\n",
    "    \n",
    "    - NumOfProducts — number of banking products used by the customer\n",
    "\n",
    "    - HasCrCard — customer has a credit card\n",
    "\n",
    "    - IsActiveMember — customer’s activeness\n",
    "    \n",
    "    - EstimatedSalary — estimated salary\n",
    "\n",
    "``Target``\n",
    "\n",
    "    - Exited — сustomer has left\n",
    "\n",
    "In this case, we are dealing with a classification supervised learning task with only two possible answers: exited = 1 (True) or 0 (False).\n",
    "\n",
    "For assesing model quality, we will focus on two classification metrics:\n",
    "\n",
    "F1 score: this metric combines **precision** and **recall**, which evaluate the quality of predictions of the positive class from different angles:\n",
    "\n",
    "- Recall describes how well the model understood the properties of this class and how well it recognized the class. \n",
    "\n",
    "    **RECALL = TRUE POSTIVES [TP] / (TRUE POSITIVES [TP] + FALSE NEGATIVES [FN])**\n",
    "\n",
    "\n",
    "- Precision detects whether the model is overdoing it by assigning too many positive labels.\n",
    "    \n",
    "    **PRECISION = TRUE POSTIVES [TP] / (TRUE POSITIVES [TP] + FALSE POSITIVES [FP])**\n",
    "    \n",
    "    \n",
    "Both metrics are important. Aggregating metrics — one of which is the F1 score — help to control them simultaneously. This is the harmonic mean of recall and precision. In F1, 1 means that the ratio of recall to precision is 1:1.\n",
    "\n",
    "   **F1 = 2 x PRECISION x RECALL / (PRECISION + RECALL)**\n",
    "   \n",
    "\n",
    "We will focus in building a model with the **maximum possible F1 score**, which must be at least 0.59. \n",
    "\n",
    "F1 will be checked for the test set.\n",
    "\n",
    "\n",
    "Finally, we'll measure the **AUC-ROC (Area Under Curve-Receiver Operating Characteristic)** metric and compare it with the F1. \n",
    "\n",
    "The ROC curve can be plotted by putting the false positive rate values (FPR) along the horizontal axis, and true positive rate values (TPR) along the vertical axis. Then we iterate over the logistic regression threshold values (the value starting from which the predicted value will be set as 1=True) and plot a curve. \n",
    "\n",
    "For a model that always answers randomly, the ROC curve is a diagonal line going from the lower left to the upper right. The higher the curve, the greater the TPR value and the better the model's quality.\n",
    "\n",
    "\n",
    "The AUC-ROC value will allow us to find how much our model differs from the random model. Its values are always in the range from 0 to 1. The AUC-ROC value for a random model is 0.5.\n",
    "  \n"
   ]
  },
  {
   "cell_type": "markdown",
   "id": "ef157b78",
   "metadata": {},
   "source": [
    "## 1) Import libraries"
   ]
  },
  {
   "cell_type": "code",
   "execution_count": 1,
   "id": "9683e63c",
   "metadata": {},
   "outputs": [],
   "source": [
    "import pandas as pd\n",
    "from sklearn.model_selection import train_test_split\n",
    "from sklearn.linear_model import LogisticRegression\n",
    "from sklearn.tree import DecisionTreeClassifier\n",
    "from sklearn.ensemble import RandomForestClassifier \n",
    "\n",
    "\n",
    "from sklearn.metrics import roc_auc_score \n",
    "from sklearn.metrics import roc_curve\n",
    "from sklearn.metrics import f1_score \n",
    "from sklearn.metrics import precision_score,recall_score\n",
    "from sklearn.metrics import precision_recall_curve\n",
    "from sklearn.preprocessing import StandardScaler \n",
    "from sklearn.preprocessing import OrdinalEncoder \n",
    "from sklearn.utils import shuffle\n",
    "\n",
    "from sklearn.metrics import confusion_matrix\n",
    "import matplotlib.pyplot as plt"
   ]
  },
  {
   "cell_type": "markdown",
   "id": "f078e709",
   "metadata": {},
   "source": [
    "## 2) Load the dataset into a dataframe"
   ]
  },
  {
   "cell_type": "code",
   "execution_count": 2,
   "id": "9de155c1",
   "metadata": {},
   "outputs": [],
   "source": [
    "# Load companies data into a Dataframe\n",
    "try:\n",
    "    df=pd.read_csv('c:/Users/josef/Practicum/Supervised learning/Churn.csv')\n",
    "except:\n",
    "    df=pd.read_csv('/datasets/Churn.csv')"
   ]
  },
  {
   "cell_type": "markdown",
   "id": "fce9a89b",
   "metadata": {},
   "source": [
    "## 3) Open and look through the data file"
   ]
  },
  {
   "cell_type": "code",
   "execution_count": 3,
   "id": "cef25336",
   "metadata": {},
   "outputs": [
    {
     "data": {
      "text/html": [
       "<div>\n",
       "<style scoped>\n",
       "    .dataframe tbody tr th:only-of-type {\n",
       "        vertical-align: middle;\n",
       "    }\n",
       "\n",
       "    .dataframe tbody tr th {\n",
       "        vertical-align: top;\n",
       "    }\n",
       "\n",
       "    .dataframe thead th {\n",
       "        text-align: right;\n",
       "    }\n",
       "</style>\n",
       "<table border=\"1\" class=\"dataframe\">\n",
       "  <thead>\n",
       "    <tr style=\"text-align: right;\">\n",
       "      <th></th>\n",
       "      <th>RowNumber</th>\n",
       "      <th>CustomerId</th>\n",
       "      <th>Surname</th>\n",
       "      <th>CreditScore</th>\n",
       "      <th>Geography</th>\n",
       "      <th>Gender</th>\n",
       "      <th>Age</th>\n",
       "      <th>Tenure</th>\n",
       "      <th>Balance</th>\n",
       "      <th>NumOfProducts</th>\n",
       "      <th>HasCrCard</th>\n",
       "      <th>IsActiveMember</th>\n",
       "      <th>EstimatedSalary</th>\n",
       "      <th>Exited</th>\n",
       "    </tr>\n",
       "  </thead>\n",
       "  <tbody>\n",
       "    <tr>\n",
       "      <th>0</th>\n",
       "      <td>1</td>\n",
       "      <td>15634602</td>\n",
       "      <td>Hargrave</td>\n",
       "      <td>619</td>\n",
       "      <td>France</td>\n",
       "      <td>Female</td>\n",
       "      <td>42</td>\n",
       "      <td>2.0</td>\n",
       "      <td>0.00</td>\n",
       "      <td>1</td>\n",
       "      <td>1</td>\n",
       "      <td>1</td>\n",
       "      <td>101348.88</td>\n",
       "      <td>1</td>\n",
       "    </tr>\n",
       "    <tr>\n",
       "      <th>1</th>\n",
       "      <td>2</td>\n",
       "      <td>15647311</td>\n",
       "      <td>Hill</td>\n",
       "      <td>608</td>\n",
       "      <td>Spain</td>\n",
       "      <td>Female</td>\n",
       "      <td>41</td>\n",
       "      <td>1.0</td>\n",
       "      <td>83807.86</td>\n",
       "      <td>1</td>\n",
       "      <td>0</td>\n",
       "      <td>1</td>\n",
       "      <td>112542.58</td>\n",
       "      <td>0</td>\n",
       "    </tr>\n",
       "    <tr>\n",
       "      <th>2</th>\n",
       "      <td>3</td>\n",
       "      <td>15619304</td>\n",
       "      <td>Onio</td>\n",
       "      <td>502</td>\n",
       "      <td>France</td>\n",
       "      <td>Female</td>\n",
       "      <td>42</td>\n",
       "      <td>8.0</td>\n",
       "      <td>159660.80</td>\n",
       "      <td>3</td>\n",
       "      <td>1</td>\n",
       "      <td>0</td>\n",
       "      <td>113931.57</td>\n",
       "      <td>1</td>\n",
       "    </tr>\n",
       "    <tr>\n",
       "      <th>3</th>\n",
       "      <td>4</td>\n",
       "      <td>15701354</td>\n",
       "      <td>Boni</td>\n",
       "      <td>699</td>\n",
       "      <td>France</td>\n",
       "      <td>Female</td>\n",
       "      <td>39</td>\n",
       "      <td>1.0</td>\n",
       "      <td>0.00</td>\n",
       "      <td>2</td>\n",
       "      <td>0</td>\n",
       "      <td>0</td>\n",
       "      <td>93826.63</td>\n",
       "      <td>0</td>\n",
       "    </tr>\n",
       "    <tr>\n",
       "      <th>4</th>\n",
       "      <td>5</td>\n",
       "      <td>15737888</td>\n",
       "      <td>Mitchell</td>\n",
       "      <td>850</td>\n",
       "      <td>Spain</td>\n",
       "      <td>Female</td>\n",
       "      <td>43</td>\n",
       "      <td>2.0</td>\n",
       "      <td>125510.82</td>\n",
       "      <td>1</td>\n",
       "      <td>1</td>\n",
       "      <td>1</td>\n",
       "      <td>79084.10</td>\n",
       "      <td>0</td>\n",
       "    </tr>\n",
       "  </tbody>\n",
       "</table>\n",
       "</div>"
      ],
      "text/plain": [
       "   RowNumber  CustomerId   Surname  CreditScore Geography  Gender  Age  \\\n",
       "0          1    15634602  Hargrave          619    France  Female   42   \n",
       "1          2    15647311      Hill          608     Spain  Female   41   \n",
       "2          3    15619304      Onio          502    France  Female   42   \n",
       "3          4    15701354      Boni          699    France  Female   39   \n",
       "4          5    15737888  Mitchell          850     Spain  Female   43   \n",
       "\n",
       "   Tenure    Balance  NumOfProducts  HasCrCard  IsActiveMember  \\\n",
       "0     2.0       0.00              1          1               1   \n",
       "1     1.0   83807.86              1          0               1   \n",
       "2     8.0  159660.80              3          1               0   \n",
       "3     1.0       0.00              2          0               0   \n",
       "4     2.0  125510.82              1          1               1   \n",
       "\n",
       "   EstimatedSalary  Exited  \n",
       "0        101348.88       1  \n",
       "1        112542.58       0  \n",
       "2        113931.57       1  \n",
       "3         93826.63       0  \n",
       "4         79084.10       0  "
      ]
     },
     "execution_count": 3,
     "metadata": {},
     "output_type": "execute_result"
    }
   ],
   "source": [
    "#Print first five rows\n",
    "df.head()"
   ]
  },
  {
   "cell_type": "code",
   "execution_count": 4,
   "id": "c66bf910",
   "metadata": {},
   "outputs": [
    {
     "name": "stdout",
     "output_type": "stream",
     "text": [
      "<class 'pandas.core.frame.DataFrame'>\n",
      "RangeIndex: 10000 entries, 0 to 9999\n",
      "Data columns (total 14 columns):\n",
      " #   Column           Non-Null Count  Dtype  \n",
      "---  ------           --------------  -----  \n",
      " 0   RowNumber        10000 non-null  int64  \n",
      " 1   CustomerId       10000 non-null  int64  \n",
      " 2   Surname          10000 non-null  object \n",
      " 3   CreditScore      10000 non-null  int64  \n",
      " 4   Geography        10000 non-null  object \n",
      " 5   Gender           10000 non-null  object \n",
      " 6   Age              10000 non-null  int64  \n",
      " 7   Tenure           9091 non-null   float64\n",
      " 8   Balance          10000 non-null  float64\n",
      " 9   NumOfProducts    10000 non-null  int64  \n",
      " 10  HasCrCard        10000 non-null  int64  \n",
      " 11  IsActiveMember   10000 non-null  int64  \n",
      " 12  EstimatedSalary  10000 non-null  float64\n",
      " 13  Exited           10000 non-null  int64  \n",
      "dtypes: float64(3), int64(8), object(3)\n",
      "memory usage: 1.1+ MB\n"
     ]
    }
   ],
   "source": [
    "#Print general info\n",
    "df.info()"
   ]
  },
  {
   "cell_type": "code",
   "execution_count": 5,
   "id": "4f0d275c",
   "metadata": {},
   "outputs": [
    {
     "data": {
      "text/plain": [
       "0"
      ]
     },
     "execution_count": 5,
     "metadata": {},
     "output_type": "execute_result"
    }
   ],
   "source": [
    "#print duplicates\n",
    "df.duplicated().sum()"
   ]
  },
  {
   "cell_type": "code",
   "execution_count": 6,
   "id": "d23772ca",
   "metadata": {},
   "outputs": [
    {
     "data": {
      "text/plain": [
       "RowNumber            0\n",
       "CustomerId           0\n",
       "Surname              0\n",
       "CreditScore          0\n",
       "Geography            0\n",
       "Gender               0\n",
       "Age                  0\n",
       "Tenure             909\n",
       "Balance              0\n",
       "NumOfProducts        0\n",
       "HasCrCard            0\n",
       "IsActiveMember       0\n",
       "EstimatedSalary      0\n",
       "Exited               0\n",
       "dtype: int64"
      ]
     },
     "execution_count": 6,
     "metadata": {},
     "output_type": "execute_result"
    }
   ],
   "source": [
    "#Print sum of missing values per column\n",
    "df.isna().sum()"
   ]
  },
  {
   "cell_type": "markdown",
   "id": "895c82d6",
   "metadata": {},
   "source": [
    "\n",
    "## Conclusion\n",
    "\n",
    "From an overall data view, we can tell that before getting the dataset ready to start developing the model we must:\n",
    "\n",
    "- 1) Rename columns using lowercase characters, and switching to the snake_case format. We will only select numeric columns that will be effectively used for training the model and making predictions. This means, we'll get rid of \"RowNumber\", \"CustomerId\" and \"Surname\".\n",
    "\n",
    "- 2) Fix missing values in ``tenure``. Recall from the description that the column stores the period of maturation for a customer’s fixed deposit (years).\n",
    "\n",
    "\n",
    "There are no duplicates, or data types to be changed."
   ]
  },
  {
   "cell_type": "code",
   "execution_count": 7,
   "id": "88021a96",
   "metadata": {},
   "outputs": [
    {
     "data": {
      "text/html": [
       "<div>\n",
       "<style scoped>\n",
       "    .dataframe tbody tr th:only-of-type {\n",
       "        vertical-align: middle;\n",
       "    }\n",
       "\n",
       "    .dataframe tbody tr th {\n",
       "        vertical-align: top;\n",
       "    }\n",
       "\n",
       "    .dataframe thead th {\n",
       "        text-align: right;\n",
       "    }\n",
       "</style>\n",
       "<table border=\"1\" class=\"dataframe\">\n",
       "  <thead>\n",
       "    <tr style=\"text-align: right;\">\n",
       "      <th></th>\n",
       "      <th>CreditScore</th>\n",
       "      <th>Geography</th>\n",
       "      <th>Gender</th>\n",
       "      <th>Age</th>\n",
       "      <th>Tenure</th>\n",
       "      <th>Balance</th>\n",
       "      <th>NumOfProducts</th>\n",
       "      <th>HasCrCard</th>\n",
       "      <th>IsActiveMember</th>\n",
       "      <th>EstimatedSalary</th>\n",
       "      <th>Exited</th>\n",
       "    </tr>\n",
       "  </thead>\n",
       "  <tbody>\n",
       "    <tr>\n",
       "      <th>1341</th>\n",
       "      <td>794</td>\n",
       "      <td>France</td>\n",
       "      <td>Female</td>\n",
       "      <td>41</td>\n",
       "      <td>7.0</td>\n",
       "      <td>176845.41</td>\n",
       "      <td>3</td>\n",
       "      <td>1</td>\n",
       "      <td>0</td>\n",
       "      <td>166526.26</td>\n",
       "      <td>1</td>\n",
       "    </tr>\n",
       "    <tr>\n",
       "      <th>3499</th>\n",
       "      <td>617</td>\n",
       "      <td>France</td>\n",
       "      <td>Male</td>\n",
       "      <td>74</td>\n",
       "      <td>10.0</td>\n",
       "      <td>0.00</td>\n",
       "      <td>2</td>\n",
       "      <td>1</td>\n",
       "      <td>1</td>\n",
       "      <td>53949.98</td>\n",
       "      <td>0</td>\n",
       "    </tr>\n",
       "    <tr>\n",
       "      <th>1687</th>\n",
       "      <td>850</td>\n",
       "      <td>Spain</td>\n",
       "      <td>Male</td>\n",
       "      <td>37</td>\n",
       "      <td>4.0</td>\n",
       "      <td>137204.77</td>\n",
       "      <td>1</td>\n",
       "      <td>1</td>\n",
       "      <td>1</td>\n",
       "      <td>28865.59</td>\n",
       "      <td>0</td>\n",
       "    </tr>\n",
       "    <tr>\n",
       "      <th>9678</th>\n",
       "      <td>635</td>\n",
       "      <td>Spain</td>\n",
       "      <td>Male</td>\n",
       "      <td>29</td>\n",
       "      <td>2.0</td>\n",
       "      <td>0.00</td>\n",
       "      <td>2</td>\n",
       "      <td>0</td>\n",
       "      <td>0</td>\n",
       "      <td>117173.80</td>\n",
       "      <td>0</td>\n",
       "    </tr>\n",
       "    <tr>\n",
       "      <th>4389</th>\n",
       "      <td>660</td>\n",
       "      <td>France</td>\n",
       "      <td>Male</td>\n",
       "      <td>30</td>\n",
       "      <td>7.0</td>\n",
       "      <td>146301.31</td>\n",
       "      <td>1</td>\n",
       "      <td>0</td>\n",
       "      <td>0</td>\n",
       "      <td>96847.91</td>\n",
       "      <td>0</td>\n",
       "    </tr>\n",
       "  </tbody>\n",
       "</table>\n",
       "</div>"
      ],
      "text/plain": [
       "      CreditScore Geography  Gender  Age  Tenure    Balance  NumOfProducts  \\\n",
       "1341          794    France  Female   41     7.0  176845.41              3   \n",
       "3499          617    France    Male   74    10.0       0.00              2   \n",
       "1687          850     Spain    Male   37     4.0  137204.77              1   \n",
       "9678          635     Spain    Male   29     2.0       0.00              2   \n",
       "4389          660    France    Male   30     7.0  146301.31              1   \n",
       "\n",
       "      HasCrCard  IsActiveMember  EstimatedSalary  Exited  \n",
       "1341          1               0        166526.26       1  \n",
       "3499          1               1         53949.98       0  \n",
       "1687          1               1         28865.59       0  \n",
       "9678          0               0        117173.80       0  \n",
       "4389          0               0         96847.91       0  "
      ]
     },
     "execution_count": 7,
     "metadata": {},
     "output_type": "execute_result"
    }
   ],
   "source": [
    "#Select useful columns only\n",
    "\n",
    "df= df.loc[:,'CreditScore':]\n",
    "df.sample(5)"
   ]
  },
  {
   "cell_type": "code",
   "execution_count": 8,
   "id": "4ed719a6",
   "metadata": {},
   "outputs": [],
   "source": [
    "#Rename columns:\n",
    "#switch to lowercase\n",
    "df= df.rename(columns={column: column.lower() for column in df.columns})\n",
    "\n",
    "#separate words with underscores\n",
    "df= df.rename(columns={'creditscore': 'credit_score', 'numofproducts': 'num_of_products', 'hascrcard':'has_cr_card','isactivemember':'is_active_member','estimatedsalary':'estimated_salary' })"
   ]
  },
  {
   "cell_type": "code",
   "execution_count": 9,
   "id": "fd8e6f81",
   "metadata": {},
   "outputs": [
    {
     "data": {
      "text/plain": [
       "Index(['credit_score', 'geography', 'gender', 'age', 'tenure', 'balance',\n",
       "       'num_of_products', 'has_cr_card', 'is_active_member',\n",
       "       'estimated_salary', 'exited'],\n",
       "      dtype='object')"
      ]
     },
     "execution_count": 9,
     "metadata": {},
     "output_type": "execute_result"
    }
   ],
   "source": [
    "#check replacement\n",
    "df.columns"
   ]
  },
  {
   "cell_type": "code",
   "execution_count": 10,
   "id": "0dd29a4c",
   "metadata": {},
   "outputs": [
    {
     "name": "stdout",
     "output_type": "stream",
     "text": [
      "Missing values represent 9.09% of the dataset\n"
     ]
    }
   ],
   "source": [
    "#assess percentage of missing values\n",
    "\n",
    "missing_values=df['tenure'].isna().sum()/len(df)\n",
    "\n",
    "print(f'Missing values represent {missing_values:.2%} of the dataset')"
   ]
  },
  {
   "cell_type": "markdown",
   "id": "6b8fd4e8",
   "metadata": {},
   "source": [
    "Since there is more than a 5% of missing values, we won't drop the rows. We will try to find out if it's reasonable to replace them the mean or median tenure."
   ]
  },
  {
   "cell_type": "code",
   "execution_count": 11,
   "id": "69656044",
   "metadata": {},
   "outputs": [
    {
     "data": {
      "text/plain": [
       "count    9091.000000\n",
       "mean        4.997690\n",
       "std         2.894723\n",
       "min         0.000000\n",
       "25%         2.000000\n",
       "50%         5.000000\n",
       "75%         7.000000\n",
       "max        10.000000\n",
       "Name: tenure, dtype: float64"
      ]
     },
     "execution_count": 11,
     "metadata": {},
     "output_type": "execute_result"
    }
   ],
   "source": [
    "#Get description of column. Compare the mean and the median for replacing missing values\n",
    "df['tenure'].describe()"
   ]
  },
  {
   "cell_type": "markdown",
   "id": "092c0b08",
   "metadata": {},
   "source": [
    "The mean and median tenure are almost the same. We'll use the median to fill missing values."
   ]
  },
  {
   "cell_type": "code",
   "execution_count": 12,
   "id": "4c87d0e9",
   "metadata": {},
   "outputs": [],
   "source": [
    "#Fill missing values using the median\n",
    "median_tenure= df['tenure'].median()\n",
    "df['tenure'].fillna(median_tenure,inplace= True)\n",
    "\n"
   ]
  },
  {
   "cell_type": "code",
   "execution_count": 13,
   "id": "b2f1ce5d",
   "metadata": {},
   "outputs": [
    {
     "data": {
      "text/plain": [
       "count    10000.00000\n",
       "mean         4.99790\n",
       "std          2.76001\n",
       "min          0.00000\n",
       "25%          3.00000\n",
       "50%          5.00000\n",
       "75%          7.00000\n",
       "max         10.00000\n",
       "Name: tenure, dtype: float64"
      ]
     },
     "execution_count": 13,
     "metadata": {},
     "output_type": "execute_result"
    }
   ],
   "source": [
    "#Check replacement\n",
    "df['tenure'].describe()"
   ]
  },
  {
   "cell_type": "markdown",
   "id": "74512a61",
   "metadata": {},
   "source": [
    "## 4) Assess Balance and Imbalance of the Classes\n",
    "\n",
    "Below, we will check how often the target feature contains the class \"1\" or \"0\". In the event that there is a significant imbalance (the ratio is far from 1:1), we will apply upsampling or downsampling to balance the results.\n",
    "\n",
    "\n",
    "    "
   ]
  },
  {
   "cell_type": "code",
   "execution_count": 14,
   "id": "501d60b9",
   "metadata": {
    "scrolled": true
   },
   "outputs": [
    {
     "name": "stdout",
     "output_type": "stream",
     "text": [
      "0    0.7963\n",
      "1    0.2037\n",
      "Name: exited, dtype: float64\n"
     ]
    },
    {
     "data": {
      "text/plain": [
       "<AxesSubplot:>"
      ]
     },
     "execution_count": 14,
     "metadata": {},
     "output_type": "execute_result"
    },
    {
     "data": {
      "image/png": "[encoded data removed]",
      "text/plain": [
       "<Figure size 432x288 with 1 Axes>"
      ]
     },
     "metadata": {
      "needs_background": "light"
     },
     "output_type": "display_data"
    }
   ],
   "source": [
    "#Print and plot percentages of users who exited vs. those who did not exit\n",
    "class_frequency= df['exited'].value_counts(normalize=True)\n",
    "print(class_frequency)\n",
    "class_frequency.plot(kind='bar')"
   ]
  },
  {
   "cell_type": "markdown",
   "id": "a722e1ed",
   "metadata": {},
   "source": [
    "The ratio is 4:1, so we conclude that classes are unbalanced."
   ]
  },
  {
   "cell_type": "markdown",
   "id": "624933df",
   "metadata": {},
   "source": [
    "## 5) Train the model without taking into account the imbalance\n",
    "\n",
    "First, we will train three different types of models without balancing classes and assess the results.\n",
    "\n",
    "    "
   ]
  },
  {
   "cell_type": "markdown",
   "id": "1e2f8bb0",
   "metadata": {},
   "source": [
    "### Logistic regressor\n",
    "\n",
    "We'll start by training a logistic regression model. \n",
    "\n",
    "To begin with, we'll transform categorical features (Geography and gender) into numerical features. We will use One-hot encoding, provided that Label Encoding is a bad idea for regression algorithms. Such algorithms are based on learning weights for each feature in a formula. Hence, if we encode a categorical variable with numbers in a single column, then the algorithm will treat the variable as continuous and assume the values are on a meaningful scale.\n",
    "\n",
    "So in case of regression, the categories have to be encoded in a way that assigns equal importance to all of them, yet still lets them be recognized as distinct and different. That's why OHE (One Hot Encoding) is necessary in the first place. OHE encodes each category as a linearly independent vector in N-dimensional space. All such vectors are initially equidistant from each other, and will learn their separate independent weights during the algorithm's execution. That's why OHE performs well for all machine learning algorithms that look at all the features at the same time during training.\n",
    "\n",
    "To avoid the high correlation between encoded columns confusing our model, we can safely remove any one column, since its values can be easily inferred from the other two columns (it has 1 where the other two columns have zeroes, and it has zeroes everywhere else). This way, we will not fall into the dummy trap. This can be achieved by passing \"drop_first=True\" into the encoding formula.\n",
    "\n",
    "    "
   ]
  },
  {
   "cell_type": "code",
   "execution_count": 15,
   "id": "4ac7f1fb",
   "metadata": {},
   "outputs": [
    {
     "data": {
      "text/html": [
       "<div>\n",
       "<style scoped>\n",
       "    .dataframe tbody tr th:only-of-type {\n",
       "        vertical-align: middle;\n",
       "    }\n",
       "\n",
       "    .dataframe tbody tr th {\n",
       "        vertical-align: top;\n",
       "    }\n",
       "\n",
       "    .dataframe thead th {\n",
       "        text-align: right;\n",
       "    }\n",
       "</style>\n",
       "<table border=\"1\" class=\"dataframe\">\n",
       "  <thead>\n",
       "    <tr style=\"text-align: right;\">\n",
       "      <th></th>\n",
       "      <th>credit_score</th>\n",
       "      <th>age</th>\n",
       "      <th>tenure</th>\n",
       "      <th>balance</th>\n",
       "      <th>num_of_products</th>\n",
       "      <th>has_cr_card</th>\n",
       "      <th>is_active_member</th>\n",
       "      <th>estimated_salary</th>\n",
       "      <th>exited</th>\n",
       "      <th>geography_Germany</th>\n",
       "      <th>geography_Spain</th>\n",
       "      <th>gender_Male</th>\n",
       "    </tr>\n",
       "  </thead>\n",
       "  <tbody>\n",
       "    <tr>\n",
       "      <th>0</th>\n",
       "      <td>619</td>\n",
       "      <td>42</td>\n",
       "      <td>2.0</td>\n",
       "      <td>0.00</td>\n",
       "      <td>1</td>\n",
       "      <td>1</td>\n",
       "      <td>1</td>\n",
       "      <td>101348.88</td>\n",
       "      <td>1</td>\n",
       "      <td>0</td>\n",
       "      <td>0</td>\n",
       "      <td>0</td>\n",
       "    </tr>\n",
       "    <tr>\n",
       "      <th>1</th>\n",
       "      <td>608</td>\n",
       "      <td>41</td>\n",
       "      <td>1.0</td>\n",
       "      <td>83807.86</td>\n",
       "      <td>1</td>\n",
       "      <td>0</td>\n",
       "      <td>1</td>\n",
       "      <td>112542.58</td>\n",
       "      <td>0</td>\n",
       "      <td>0</td>\n",
       "      <td>1</td>\n",
       "      <td>0</td>\n",
       "    </tr>\n",
       "    <tr>\n",
       "      <th>2</th>\n",
       "      <td>502</td>\n",
       "      <td>42</td>\n",
       "      <td>8.0</td>\n",
       "      <td>159660.80</td>\n",
       "      <td>3</td>\n",
       "      <td>1</td>\n",
       "      <td>0</td>\n",
       "      <td>113931.57</td>\n",
       "      <td>1</td>\n",
       "      <td>0</td>\n",
       "      <td>0</td>\n",
       "      <td>0</td>\n",
       "    </tr>\n",
       "    <tr>\n",
       "      <th>3</th>\n",
       "      <td>699</td>\n",
       "      <td>39</td>\n",
       "      <td>1.0</td>\n",
       "      <td>0.00</td>\n",
       "      <td>2</td>\n",
       "      <td>0</td>\n",
       "      <td>0</td>\n",
       "      <td>93826.63</td>\n",
       "      <td>0</td>\n",
       "      <td>0</td>\n",
       "      <td>0</td>\n",
       "      <td>0</td>\n",
       "    </tr>\n",
       "    <tr>\n",
       "      <th>4</th>\n",
       "      <td>850</td>\n",
       "      <td>43</td>\n",
       "      <td>2.0</td>\n",
       "      <td>125510.82</td>\n",
       "      <td>1</td>\n",
       "      <td>1</td>\n",
       "      <td>1</td>\n",
       "      <td>79084.10</td>\n",
       "      <td>0</td>\n",
       "      <td>0</td>\n",
       "      <td>1</td>\n",
       "      <td>0</td>\n",
       "    </tr>\n",
       "  </tbody>\n",
       "</table>\n",
       "</div>"
      ],
      "text/plain": [
       "   credit_score  age  tenure    balance  num_of_products  has_cr_card  \\\n",
       "0           619   42     2.0       0.00                1            1   \n",
       "1           608   41     1.0   83807.86                1            0   \n",
       "2           502   42     8.0  159660.80                3            1   \n",
       "3           699   39     1.0       0.00                2            0   \n",
       "4           850   43     2.0  125510.82                1            1   \n",
       "\n",
       "   is_active_member  estimated_salary  exited  geography_Germany  \\\n",
       "0                 1         101348.88       1                  0   \n",
       "1                 1         112542.58       0                  0   \n",
       "2                 0         113931.57       1                  0   \n",
       "3                 0          93826.63       0                  0   \n",
       "4                 1          79084.10       0                  0   \n",
       "\n",
       "   geography_Spain  gender_Male  \n",
       "0                0            0  \n",
       "1                1            0  \n",
       "2                0            0  \n",
       "3                0            0  \n",
       "4                1            0  "
      ]
     },
     "execution_count": 15,
     "metadata": {},
     "output_type": "execute_result"
    }
   ],
   "source": [
    "#One-hot encode data\n",
    "\n",
    "df_ohe = pd.get_dummies(df, drop_first=True)\n",
    "df_ohe.head()"
   ]
  },
  {
   "cell_type": "code",
   "execution_count": 16,
   "id": "44e8ace3",
   "metadata": {},
   "outputs": [
    {
     "name": "stdout",
     "output_type": "stream",
     "text": [
      "0.6\n",
      "0.2\n",
      "0.2\n"
     ]
    }
   ],
   "source": [
    "#Separate features and target\n",
    "\n",
    "target= df_ohe['exited']\n",
    "features_ohe= df_ohe.drop(['exited'], axis=1)\n",
    "\n",
    "\n",
    "#Split the source data into three sets using the ratio of 60:20:20\n",
    "\n",
    "features_train_ohe, features_test_ohe, target_train,target_test = train_test_split(features_ohe, target, test_size=0.20,random_state=12345)\n",
    "features_train_ohe, features_valid_ohe, target_train,target_valid = train_test_split(features_train_ohe, target_train, test_size=0.25,random_state=12345)\n",
    "\n",
    "#check data was split correctly into train, valid and test\n",
    "print(len(features_train_ohe)/len(df_ohe))\n",
    "print(len(features_valid_ohe)/len(df_ohe))\n",
    "print(len(features_test_ohe)/len(df_ohe))\n"
   ]
  },
  {
   "cell_type": "code",
   "execution_count": 17,
   "id": "15ffc706",
   "metadata": {},
   "outputs": [],
   "source": [
    "#Standarize feature scaling\n",
    "\n",
    "scaler = StandardScaler()\n",
    "scaler.fit(features_train_ohe) \n",
    "\n",
    "features_train_ohe_scaled= scaler.transform(features_train_ohe)\n",
    "features_valid_ohe_scaled= scaler.transform(features_valid_ohe)"
   ]
  },
  {
   "cell_type": "code",
   "execution_count": 18,
   "id": "bf518595",
   "metadata": {},
   "outputs": [
    {
     "name": "stdout",
     "output_type": "stream",
     "text": [
      "Precision score: 0.574468085106383\n",
      "Recall score: 0.2071611253196931\n",
      "F1 score: 0.30451127819548873\n",
      "AUC-ROC: 0.7703169034793099\n",
      "\n",
      "\n",
      "Confusion matrix:\n",
      "[[True Negative, False Positive]\n",
      "[False Negative, True Positive]]\n",
      "[[1549   60]\n",
      " [ 310   81]]\n"
     ]
    }
   ],
   "source": [
    "#Create regression model\n",
    "model_regression= LogisticRegression(random_state=12345, solver='liblinear')\n",
    "\n",
    "#Train regression model\n",
    "model_regression.fit(features_train_ohe_scaled, target_train)\n",
    "\n",
    "#Store predictions\n",
    "predicted_valid = model_regression.predict(features_valid_ohe_scaled)\n",
    "\n",
    "#Store probabilities assigned by the model\n",
    "probabilities_valid = model_regression.predict_proba(features_valid_ohe_scaled)\n",
    "\n",
    "#Store probabilities of class \"1\" (exited)\n",
    "probabilities_one_valid = probabilities_valid[:, 1]\n",
    "\n",
    "\n",
    "\n",
    "print(f'Precision score: {precision_score(target_valid, predicted_valid)}')\n",
    "print(f'Recall score: {recall_score(target_valid, predicted_valid)}')\n",
    "print(f'F1 score: {f1_score(target_valid, predicted_valid)}')\n",
    "print(f'AUC-ROC: {roc_auc_score(target_valid, probabilities_one_valid)}\\n\\n')\n",
    "print(f'Confusion matrix:\\n[[True Negative, False Positive]\\n[False Negative, True Positive]]')\n",
    "print(confusion_matrix(target_valid, predicted_valid))"
   ]
  },
  {
   "cell_type": "code",
   "execution_count": 19,
   "id": "bf1c9368",
   "metadata": {},
   "outputs": [
    {
     "data": {
      "image/png": "[encoded data removed]",
      "text/plain": [
       "<Figure size 432x432 with 1 Axes>"
      ]
     },
     "metadata": {
      "needs_background": "light"
     },
     "output_type": "display_data"
    }
   ],
   "source": [
    "#Plot the precision recall curve\n",
    "precision, recall, thresholds = precision_recall_curve(\n",
    "    target_valid, probabilities_valid[:, 1]\n",
    ")\n",
    "\n",
    "plt.figure(figsize=(6, 6))\n",
    "plt.step(recall, precision, where='post')\n",
    "plt.xlabel('Recall')\n",
    "plt.ylabel('Precision')\n",
    "plt.ylim([0.0, 1.05])\n",
    "plt.xlim([0.0, 1.0])\n",
    "plt.title('Precision-Recall Curve')\n",
    "plt.show() \n"
   ]
  },
  {
   "cell_type": "code",
   "execution_count": 20,
   "id": "7c20494a",
   "metadata": {},
   "outputs": [
    {
     "data": {
      "image/png": "[encoded data removed]",
      "text/plain": [
       "<Figure size 432x288 with 1 Axes>"
      ]
     },
     "metadata": {
      "needs_background": "light"
     },
     "output_type": "display_data"
    }
   ],
   "source": [
    "#Plot the ROC Curve for the regression model vs. for random model\n",
    "\n",
    "fpr, tpr, thresh = roc_curve(target_valid,probabilities_one_valid)\n",
    "\n",
    "plt.clf()\n",
    "# ROC curve for random model (looks like a straight line)\n",
    "plt.plot([0, 1], [0, 1], linestyle='--')\n",
    "\n",
    "# < plot the graph >\n",
    "plt.plot(fpr, tpr)\n",
    "\n",
    "# < use the functions plt.xlim() and plt.ylim() to\n",
    "#   set the boundary for the axes from 0 to 1 >\n",
    "plt.ylim([0.0, 1.0])\n",
    "plt.xlim([0.0, 1.0])\n",
    "\n",
    "# < use the functions plt.xlabel() and plt.ylabel() to\n",
    "#   name the axes \"False Positive Rate\" and \"True Positive Rate\" >\n",
    "\n",
    "\n",
    "plt.xlabel('FPR')\n",
    "plt.ylabel('TPR')\n",
    "\n",
    "# < add the heading \"ROC curve\" with the function plt.title() >\n",
    "plt.title('ROC curve')\n",
    "plt.show()\n"
   ]
  },
  {
   "cell_type": "markdown",
   "id": "a8cf36cd",
   "metadata": {},
   "source": [
    "### Tree-based models: Decision Tree & Random Forest\n",
    "\n",
    "Now we'll train and score a decision tree and a random forest. For categorical columns, we'll change the encoding method.\n",
    "\n",
    "One-hot encoding is not the best option for tree-based models for a few reasons. The primary reason is that unlike regression models that have access to the whole spectrum of features at once, the tree-based model can process only one feature at a time. As a result, it doesn't have complete information about the original categorical variable. Instead, its importance is dispersed across many dummy variables, so these dummy variables are almost never chosen as splitting variables near the root of the tree, even if they were a good predictor.\n",
    "\n",
    "The best approach for trees is making splits by raw categoricals, but since scikit-learn does not currently support this option, in many cases, the second best approach turns out to be Label Encoding.\n",
    "\n",
    "The drawbacks of Label Encoding are mitigated by the fact that for trees, while the order of labels still matters, the scale of labels doesn't. In other words, there's no real difference between labels [0, 1, 2, 3] and labels [0, 2, 5, 40]. And thanks to that, even though Label Encoding still creates information that does not reflect any real facts and sometimes results in splits that don't make any sense, practical applications show that it still often results in useful splits, especially when several random permutations of numeric labels are tried.\n",
    "\n",
    "For that same reason, we don't need to standarize data neither.\n",
    "\n",
    "Provided that neither gender nor geography have any kind of implicit natural order, we won't use ordinal encoding."
   ]
  },
  {
   "cell_type": "code",
   "execution_count": 21,
   "id": "1934faaf",
   "metadata": {},
   "outputs": [
    {
     "data": {
      "text/html": [
       "<div>\n",
       "<style scoped>\n",
       "    .dataframe tbody tr th:only-of-type {\n",
       "        vertical-align: middle;\n",
       "    }\n",
       "\n",
       "    .dataframe tbody tr th {\n",
       "        vertical-align: top;\n",
       "    }\n",
       "\n",
       "    .dataframe thead th {\n",
       "        text-align: right;\n",
       "    }\n",
       "</style>\n",
       "<table border=\"1\" class=\"dataframe\">\n",
       "  <thead>\n",
       "    <tr style=\"text-align: right;\">\n",
       "      <th></th>\n",
       "      <th>geography</th>\n",
       "      <th>gender</th>\n",
       "    </tr>\n",
       "  </thead>\n",
       "  <tbody>\n",
       "    <tr>\n",
       "      <th>0</th>\n",
       "      <td>0.0</td>\n",
       "      <td>0.0</td>\n",
       "    </tr>\n",
       "    <tr>\n",
       "      <th>1</th>\n",
       "      <td>2.0</td>\n",
       "      <td>0.0</td>\n",
       "    </tr>\n",
       "    <tr>\n",
       "      <th>2</th>\n",
       "      <td>0.0</td>\n",
       "      <td>0.0</td>\n",
       "    </tr>\n",
       "    <tr>\n",
       "      <th>3</th>\n",
       "      <td>0.0</td>\n",
       "      <td>0.0</td>\n",
       "    </tr>\n",
       "    <tr>\n",
       "      <th>4</th>\n",
       "      <td>2.0</td>\n",
       "      <td>0.0</td>\n",
       "    </tr>\n",
       "  </tbody>\n",
       "</table>\n",
       "</div>"
      ],
      "text/plain": [
       "   geography  gender\n",
       "0        0.0     0.0\n",
       "1        2.0     0.0\n",
       "2        0.0     0.0\n",
       "3        0.0     0.0\n",
       "4        2.0     0.0"
      ]
     },
     "execution_count": 21,
     "metadata": {},
     "output_type": "execute_result"
    }
   ],
   "source": [
    "#store categorical columns\n",
    "\n",
    "cat_col=[col for col in df.columns if df[col].dtype=='object' ]\n",
    "\n",
    "# Label encode data\n",
    "encoder = OrdinalEncoder() \n",
    "encoder.fit(df[cat_col]) \n",
    "df_ordinal = pd.DataFrame(encoder.transform(df[cat_col]),columns=cat_col) \n",
    "df_ordinal.head()"
   ]
  },
  {
   "cell_type": "code",
   "execution_count": 22,
   "id": "15648926",
   "metadata": {},
   "outputs": [
    {
     "data": {
      "text/html": [
       "<div>\n",
       "<style scoped>\n",
       "    .dataframe tbody tr th:only-of-type {\n",
       "        vertical-align: middle;\n",
       "    }\n",
       "\n",
       "    .dataframe tbody tr th {\n",
       "        vertical-align: top;\n",
       "    }\n",
       "\n",
       "    .dataframe thead th {\n",
       "        text-align: right;\n",
       "    }\n",
       "</style>\n",
       "<table border=\"1\" class=\"dataframe\">\n",
       "  <thead>\n",
       "    <tr style=\"text-align: right;\">\n",
       "      <th></th>\n",
       "      <th>credit_score</th>\n",
       "      <th>age</th>\n",
       "      <th>tenure</th>\n",
       "      <th>balance</th>\n",
       "      <th>num_of_products</th>\n",
       "      <th>has_cr_card</th>\n",
       "      <th>is_active_member</th>\n",
       "      <th>estimated_salary</th>\n",
       "      <th>exited</th>\n",
       "      <th>geography</th>\n",
       "      <th>gender</th>\n",
       "    </tr>\n",
       "  </thead>\n",
       "  <tbody>\n",
       "    <tr>\n",
       "      <th>0</th>\n",
       "      <td>619</td>\n",
       "      <td>42</td>\n",
       "      <td>2.0</td>\n",
       "      <td>0.00</td>\n",
       "      <td>1</td>\n",
       "      <td>1</td>\n",
       "      <td>1</td>\n",
       "      <td>101348.88</td>\n",
       "      <td>1</td>\n",
       "      <td>0.0</td>\n",
       "      <td>0.0</td>\n",
       "    </tr>\n",
       "    <tr>\n",
       "      <th>1</th>\n",
       "      <td>608</td>\n",
       "      <td>41</td>\n",
       "      <td>1.0</td>\n",
       "      <td>83807.86</td>\n",
       "      <td>1</td>\n",
       "      <td>0</td>\n",
       "      <td>1</td>\n",
       "      <td>112542.58</td>\n",
       "      <td>0</td>\n",
       "      <td>2.0</td>\n",
       "      <td>0.0</td>\n",
       "    </tr>\n",
       "    <tr>\n",
       "      <th>2</th>\n",
       "      <td>502</td>\n",
       "      <td>42</td>\n",
       "      <td>8.0</td>\n",
       "      <td>159660.80</td>\n",
       "      <td>3</td>\n",
       "      <td>1</td>\n",
       "      <td>0</td>\n",
       "      <td>113931.57</td>\n",
       "      <td>1</td>\n",
       "      <td>0.0</td>\n",
       "      <td>0.0</td>\n",
       "    </tr>\n",
       "    <tr>\n",
       "      <th>3</th>\n",
       "      <td>699</td>\n",
       "      <td>39</td>\n",
       "      <td>1.0</td>\n",
       "      <td>0.00</td>\n",
       "      <td>2</td>\n",
       "      <td>0</td>\n",
       "      <td>0</td>\n",
       "      <td>93826.63</td>\n",
       "      <td>0</td>\n",
       "      <td>0.0</td>\n",
       "      <td>0.0</td>\n",
       "    </tr>\n",
       "    <tr>\n",
       "      <th>4</th>\n",
       "      <td>850</td>\n",
       "      <td>43</td>\n",
       "      <td>2.0</td>\n",
       "      <td>125510.82</td>\n",
       "      <td>1</td>\n",
       "      <td>1</td>\n",
       "      <td>1</td>\n",
       "      <td>79084.10</td>\n",
       "      <td>0</td>\n",
       "      <td>2.0</td>\n",
       "      <td>0.0</td>\n",
       "    </tr>\n",
       "  </tbody>\n",
       "</table>\n",
       "</div>"
      ],
      "text/plain": [
       "   credit_score  age  tenure    balance  num_of_products  has_cr_card  \\\n",
       "0           619   42     2.0       0.00                1            1   \n",
       "1           608   41     1.0   83807.86                1            0   \n",
       "2           502   42     8.0  159660.80                3            1   \n",
       "3           699   39     1.0       0.00                2            0   \n",
       "4           850   43     2.0  125510.82                1            1   \n",
       "\n",
       "   is_active_member  estimated_salary  exited  geography  gender  \n",
       "0                 1         101348.88       1        0.0     0.0  \n",
       "1                 1         112542.58       0        2.0     0.0  \n",
       "2                 0         113931.57       1        0.0     0.0  \n",
       "3                 0          93826.63       0        0.0     0.0  \n",
       "4                 1          79084.10       0        2.0     0.0  "
      ]
     },
     "execution_count": 22,
     "metadata": {},
     "output_type": "execute_result"
    }
   ],
   "source": [
    "#list with non categorical columns\n",
    "non_cat_col=[col for col in df.columns if df[col].dtype!='object' ]\n",
    "\n",
    "#join with non categorical columns\n",
    "df_ordinal=df[non_cat_col].join( df_ordinal).copy()\n",
    "df_ordinal.head()"
   ]
  },
  {
   "cell_type": "code",
   "execution_count": 23,
   "id": "0b0f7b24",
   "metadata": {},
   "outputs": [],
   "source": [
    "#Separate features and target\n",
    "\n",
    "target= df_ordinal['exited']\n",
    "features_ordinal= df_ordinal.drop(['exited'], axis=1)\n",
    "\n",
    "#Split the source data three sets using the ratio of 60:20:20\n",
    "\n",
    "features_train_ordinal, features_test_ordinal, target_train,target_test = train_test_split(features_ordinal, target, test_size=0.20,random_state=12345)\n",
    "features_train_ordinal, features_valid_ordinal, target_train,target_valid = train_test_split(features_train_ordinal, target_train, test_size=0.25,random_state=12345)\n",
    "\n"
   ]
  },
  {
   "cell_type": "code",
   "execution_count": 24,
   "id": "f047bdb5",
   "metadata": {},
   "outputs": [
    {
     "name": "stdout",
     "output_type": "stream",
     "text": [
      "Precision score: 0.7416267942583732\n",
      "Recall score: 0.39641943734015345\n",
      "F1 score: 0.5166666666666666\n",
      "AUC-ROC: 0.8207159535795295\n",
      "Confusion matrix:\n",
      "[[True Negative, False Positive]\n",
      "[False Negative, True Positive]]\n",
      "[[1555   54]\n",
      " [ 236  155]]\n"
     ]
    }
   ],
   "source": [
    "#Define decision tree model\n",
    "model_tree= DecisionTreeClassifier(random_state=12345, max_depth= 5)\n",
    "\n",
    "\n",
    "#Train decision tree model\n",
    "model_tree.fit(features_train_ordinal, target_train)\n",
    "\n",
    "#Store predictions\n",
    "predicted_valid = model_tree.predict(features_valid_ordinal)\n",
    "\n",
    "#Store probabilities assigned by the model\n",
    "probabilities_valid = model_tree.predict_proba(features_valid_ordinal)\n",
    "\n",
    "#Store probabilities of class \"1\" (exited)\n",
    "probabilities_one_valid = probabilities_valid[:, 1]\n",
    "\n",
    "\n",
    "print(f'Precision score: {precision_score(target_valid, predicted_valid)}')\n",
    "print(f'Recall score: {recall_score(target_valid, predicted_valid)}')\n",
    "print(f'F1 score: {f1_score(target_valid, predicted_valid)}')\n",
    "print(f'AUC-ROC: {roc_auc_score(target_valid, probabilities_one_valid)}')\n",
    "\n",
    "print(f'Confusion matrix:\\n[[True Negative, False Positive]\\n[False Negative, True Positive]]')\n",
    "print(confusion_matrix(target_valid, predicted_valid))\n"
   ]
  },
  {
   "cell_type": "code",
   "execution_count": 25,
   "id": "26cd072e",
   "metadata": {},
   "outputs": [
    {
     "data": {
      "image/png": "[encoded data removed]",
      "text/plain": [
       "<Figure size 432x432 with 1 Axes>"
      ]
     },
     "metadata": {
      "needs_background": "light"
     },
     "output_type": "display_data"
    }
   ],
   "source": [
    "#Plot the precision recall curve\n",
    "precision, recall, thresholds = precision_recall_curve(\n",
    "    target_valid, probabilities_valid[:, 1]\n",
    ")\n",
    "\n",
    "plt.figure(figsize=(6, 6))\n",
    "plt.step(recall, precision, where='post')\n",
    "plt.xlabel('Recall')\n",
    "plt.ylabel('Precision')\n",
    "plt.ylim([0.0, 1.05])\n",
    "plt.xlim([0.0, 1.0])\n",
    "plt.title('Precision-Recall Curve')\n",
    "plt.show() \n"
   ]
  },
  {
   "cell_type": "code",
   "execution_count": 26,
   "id": "c1159586",
   "metadata": {},
   "outputs": [
    {
     "data": {
      "image/png": "[encoded data removed]",
      "text/plain": [
       "<Figure size 432x288 with 1 Axes>"
      ]
     },
     "metadata": {
      "needs_background": "light"
     },
     "output_type": "display_data"
    }
   ],
   "source": [
    "#Plot the ROC Curve for the regression model vs. for random model\n",
    "\n",
    "fpr, tpr, thresh = roc_curve(target_valid,probabilities_one_valid)\n",
    "\n",
    "plt.clf()\n",
    "# ROC curve for random model (looks like a straight line)\n",
    "plt.plot([0, 1], [0, 1], linestyle='--')\n",
    "\n",
    "# < plot the graph >\n",
    "plt.plot(fpr, tpr)\n",
    "\n",
    "# < use the functions plt.xlim() and plt.ylim() to\n",
    "#   set the boundary for the axes from 0 to 1 >\n",
    "plt.ylim([0.0, 1.0])\n",
    "plt.xlim([0.0, 1.0])\n",
    "\n",
    "# < use the functions plt.xlabel() and plt.ylabel() to\n",
    "#   name the axes \"False Positive Rate\" and \"True Positive Rate\" >\n",
    "\n",
    "plt.xlabel('FPR')\n",
    "plt.ylabel('TPR')\n",
    "\n",
    "# < add the heading \"ROC curve\" with the function plt.title() >\n",
    "plt.title('ROC curve')\n",
    "plt.show()\n"
   ]
  },
  {
   "cell_type": "code",
   "execution_count": 27,
   "id": "a48967ad",
   "metadata": {},
   "outputs": [
    {
     "name": "stdout",
     "output_type": "stream",
     "text": [
      "Precision score: 0.8074534161490683\n",
      "Recall score: 0.33248081841432225\n",
      "F1 score: 0.47101449275362317\n",
      "AUC-ROC: 0.8217880877862535\n",
      "Confusion matrix:\n",
      "[[True Negative, False Positive]\n",
      "[False Negative, True Positive]]\n",
      "[[1578   31]\n",
      " [ 261  130]]\n"
     ]
    }
   ],
   "source": [
    "#Define random forest model\n",
    "model_forest= RandomForestClassifier(random_state=12345, max_depth= 5, n_estimators=5)\n",
    "\n",
    "#Train decision tree model\n",
    "model_forest.fit(features_train_ordinal, target_train)\n",
    "\n",
    "#Store predictions\n",
    "predicted_valid = model_forest.predict(features_valid_ordinal)\n",
    "\n",
    "#Store probabilities assigned by the model\n",
    "probabilities_valid = model_forest.predict_proba(features_valid_ordinal)\n",
    "\n",
    "#Store probabilities of class \"1\" (exited)\n",
    "probabilities_one_valid = probabilities_valid[:, 1]\n",
    "\n",
    "\n",
    "\n",
    "print(f'Precision score: {precision_score(target_valid, predicted_valid)}')\n",
    "print(f'Recall score: {recall_score(target_valid, predicted_valid)}')\n",
    "print(f'F1 score: {f1_score(target_valid, predicted_valid)}')\n",
    "print(f'AUC-ROC: {roc_auc_score(target_valid, probabilities_one_valid)}')\n",
    "print(f'Confusion matrix:\\n[[True Negative, False Positive]\\n[False Negative, True Positive]]')\n",
    "print(confusion_matrix(target_valid, predicted_valid))\n",
    "\n"
   ]
  },
  {
   "cell_type": "code",
   "execution_count": 28,
   "id": "4bc8d106",
   "metadata": {},
   "outputs": [
    {
     "data": {
      "image/png": "[encoded data removed]",
      "text/plain": [
       "<Figure size 432x432 with 1 Axes>"
      ]
     },
     "metadata": {
      "needs_background": "light"
     },
     "output_type": "display_data"
    }
   ],
   "source": [
    "#Plot the precision recall curve\n",
    "precision, recall, thresholds = precision_recall_curve(\n",
    "    target_valid, probabilities_valid[:, 1]\n",
    ")\n",
    "\n",
    "plt.figure(figsize=(6, 6))\n",
    "plt.step(recall, precision, where='post')\n",
    "plt.xlabel('Recall')\n",
    "plt.ylabel('Precision')\n",
    "plt.ylim([0.0, 1.05])\n",
    "plt.xlim([0.0, 1.0])\n",
    "plt.title('Precision-Recall Curve')\n",
    "plt.show() \n"
   ]
  },
  {
   "cell_type": "code",
   "execution_count": 29,
   "id": "16c07186",
   "metadata": {},
   "outputs": [
    {
     "data": {
      "image/png": "[encoded data removed]",
      "text/plain": [
       "<Figure size 432x288 with 1 Axes>"
      ]
     },
     "metadata": {
      "needs_background": "light"
     },
     "output_type": "display_data"
    }
   ],
   "source": [
    "#Plot the ROC Curve for the regression model vs. for random model\n",
    "\n",
    "fpr, tpr, thresh = roc_curve(target_valid,probabilities_one_valid)\n",
    "\n",
    "plt.clf()\n",
    "# ROC curve for random model (looks like a straight line)\n",
    "plt.plot([0, 1], [0, 1], linestyle='--')\n",
    "\n",
    "# < plot the graph >\n",
    "plt.plot(fpr, tpr)\n",
    "\n",
    "# < use the functions plt.xlim() and plt.ylim() to\n",
    "#   set the boundary for the axes from 0 to 1 >\n",
    "plt.ylim([0.0, 1.0])\n",
    "plt.xlim([0.0, 1.0])\n",
    "\n",
    "# < use the functions plt.xlabel() and plt.ylabel() to\n",
    "#   name the axes \"False Positive Rate\" and \"True Positive Rate\" >\n",
    "\n",
    "\n",
    "plt.xlabel('FPR')\n",
    "plt.ylabel('TPR')\n",
    "\n",
    "# < add the heading \"ROC curve\" with the function plt.title() >\n",
    "plt.title('ROC curve')\n",
    "plt.show()\n",
    "\n"
   ]
  },
  {
   "cell_type": "markdown",
   "id": "d8fe1152",
   "metadata": {},
   "source": [
    "Precision is 0.57, 0.74 and 0.80, meaning that the respective percentages of positives predicted were correct [TP/(TP+FP)]. Recall is lower (0.21, 0.40 and 0.33) mainly due to false negatives increasing the denominator [TP/(TP+FN)]. This is more likely because of samples where class is \"0\" being 4 times more frequent than those of class 1, what causes every algorithm to overestimate the probability of the target being negative (0). \n",
    "\n",
    "From the confusion matrixes, we can see that models are rather pesimistic, as they often see negative answers when they shouldn't (False negatives). Decision tree is the one getting the lowest count of false negative predictions. Also, it got the best F1 score (most balanced relationship between precision and recall) and has the highest ROC curve. Still, since the F1 score is below the minimum established (0.52 vs 0.59), we will need to improve the model quality and fix the class imbalance to successfully achieve our goal.\n",
    "\n",
    "As for the AUC-ROC score, the tree-based models got the highest result as well, achieving a 0.82 score, and the logistic regression one fell behind, scoring 0.77.\n",
    "\n"
   ]
  },
  {
   "cell_type": "markdown",
   "id": "800a2a9f",
   "metadata": {},
   "source": [
    "## 6) Improve the model quality\n",
    "\n",
    "Now, we will fix the class imbalance using three different approaches and re-assess the quality of the models using the F1 score:\n",
    "\n",
    "**1) class_weight argument**\n",
    "\n",
    "The logistic regression, decision trees and random forests algorithms in the sklearn library have the class_weight argument. By default, it is None — i.e., classes are equivalent:\n",
    "\n",
    "class \"0\" weight = 1.0\n",
    "\n",
    "class \"1\" weight = 1.0\n",
    "\n",
    "If we specify class_weight='balanced', the algorithm will calculate how many times the class \"0\" occurs more often than the class \"1\". We’ll denote this number as N (an unknown number of times). The new class weights look like this:\n",
    "\n",
    "class \"0\" weight = 1.0\n",
    "\n",
    "class \"1\" weight = N\n",
    "\n",
    "The rare class will have a higher weight.\n",
    "\n",
    "**2) Upsampling: repeating the samples with the rarest class result (exited=1)**\n",
    "\n",
    "Upsampling is performed in several steps:\n",
    "\n",
    "- Split the training sample into negative and positive observations;\n",
    "\n",
    "- Duplicate the positive observations several times;\n",
    "\n",
    "- Create a new training sample based on the data obtained;\n",
    "\n",
    "- Shuffle the data: identical questions following one another will not help the training.\n",
    "\n",
    "**3) Downsampling: removing a part of the most frequent class.**\n",
    "\n",
    "Downsampling is performed in several steps:\n",
    "\n",
    "- Split the training sample into negative and positive observations;\n",
    "\n",
    "- Randomly drop a portion of the negative observations;\n",
    "\n",
    "- Create a new training sample based on the data obtained;\n",
    "\n",
    "- Shuffle the data. Make sure the positive data doesn't follow the negative data: this will make it harder for the algorithms to learn.\n",
    "\n",
    "\n",
    "Next, we'll use the training and validation sets to pick the best parameters. \n",
    "\n",
    "Finally, we'll assess performance on the test set, ensuring we achieve the 0.59 F1 score required."
   ]
  },
  {
   "cell_type": "markdown",
   "id": "75b9d116",
   "metadata": {},
   "source": [
    "#### 6.1) class_weight adjustment\n",
    "\n",
    "\n",
    "    "
   ]
  },
  {
   "cell_type": "markdown",
   "id": "621d717e",
   "metadata": {},
   "source": [
    "#####  6.1.a) class_weight adjustment  Logistic regressor   "
   ]
  },
  {
   "cell_type": "code",
   "execution_count": 30,
   "id": "15eb98ff",
   "metadata": {},
   "outputs": [
    {
     "name": "stdout",
     "output_type": "stream",
     "text": [
      "F1 score: 0.4767857142857143\n",
      "[[1147  462]\n",
      " [ 124  267]]\n"
     ]
    }
   ],
   "source": [
    "#Create regression model\n",
    "model_regression= LogisticRegression(random_state=12345, solver='liblinear',class_weight='balanced')\n",
    "\n",
    "#Train regression model\n",
    "model_regression.fit(features_train_ohe_scaled, target_train)\n",
    "\n",
    "#Store predictions\n",
    "predicted_valid = model_regression.predict(features_valid_ohe_scaled)\n",
    "\n",
    "#Store probabilities assigned by the model\n",
    "probabilities_valid = model_regression.predict_proba(features_valid_ohe_scaled)\n",
    "\n",
    "#Store probabilities of class \"1\" (exited)\n",
    "probabilities_one_valid = probabilities_valid[:, 1]\n",
    "\n",
    "\n",
    "\n",
    "print(f'F1 score: {f1_score(target_valid, predicted_valid)}')\n",
    "\n",
    "print(confusion_matrix(target_valid, predicted_valid))"
   ]
  },
  {
   "cell_type": "markdown",
   "id": "ad386942",
   "metadata": {},
   "source": [
    "#####  6.1.b) class_weight adjustment:  Decision tree"
   ]
  },
  {
   "cell_type": "code",
   "execution_count": 31,
   "id": "bc51b95d",
   "metadata": {},
   "outputs": [
    {
     "name": "stdout",
     "output_type": "stream",
     "text": [
      "F1 score: 0.5638766519823788\n",
      "Best model parameters: DecisionTreeClassifier(class_weight='balanced', max_depth=6, random_state=12345)\n"
     ]
    }
   ],
   "source": [
    "#Pick best parameters based on predictions made on the train set\n",
    "f1_score_tree=0\n",
    "model_tree=None\n",
    "\n",
    "for depth in range(1,15,1):\n",
    "    model= DecisionTreeClassifier(random_state=12345, max_depth= depth, class_weight='balanced')\n",
    "\n",
    "    #Train decision tree model\n",
    "    model.fit(features_train_ordinal, target_train)\n",
    "\n",
    "    #Store predictions on the train set\n",
    "    predicted_valid = model.predict(features_valid_ordinal)\n",
    "\n",
    "  \n",
    "    #calculate f1 score\n",
    "    \n",
    "    f1_score_model = f1_score(target_valid, predicted_valid)\n",
    "    \n",
    "    #store the model with the highest result\n",
    "    if f1_score_model >f1_score_tree:\n",
    "        \n",
    "        model_tree= model\n",
    "        f1_score_tree= f1_score_model\n",
    "\n",
    "\n",
    "\n",
    "print(f'F1 score: {f1_score_tree}')\n",
    "\n",
    "print(f'Best model parameters: {model_tree}')"
   ]
  },
  {
   "cell_type": "markdown",
   "id": "2e08aa98",
   "metadata": {},
   "source": [
    "#####  6.1.b) class_weight adjustment:  Random forest"
   ]
  },
  {
   "cell_type": "code",
   "execution_count": 32,
   "id": "b0055d76",
   "metadata": {},
   "outputs": [
    {
     "name": "stdout",
     "output_type": "stream",
     "text": [
      "F1 score: 0.5807327001356852\n",
      "Best model parameters: RandomForestClassifier(class_weight='balanced', max_depth=11, n_estimators=80,\n",
      "                       random_state=12345), n_estimators: 80\n"
     ]
    }
   ],
   "source": [
    "#Pick best parameters based on predictions made on the train set\n",
    "f1_score_forest=0\n",
    "model_forest=None\n",
    "estimators=0\n",
    "for est in (80,100,10):\n",
    "\n",
    "    for depth in range(1,15,1):\n",
    "        model= RandomForestClassifier(random_state=12345, max_depth= depth, n_estimators=est, class_weight='balanced')\n",
    "\n",
    "        #Train decision tree model\n",
    "        model.fit(features_train_ordinal, target_train)\n",
    "\n",
    "        #Store predictions on the train set\n",
    "        predicted_valid = model.predict(features_valid_ordinal)\n",
    "\n",
    "\n",
    "        #calculate f1 score\n",
    "\n",
    "        f1_score_model = f1_score(target_valid, predicted_valid)\n",
    "\n",
    "        #store the model with the highest result\n",
    "        if f1_score_model >f1_score_forest:\n",
    "\n",
    "            model_forest= model\n",
    "            f1_score_forest= f1_score_model\n",
    "            estimators=est\n",
    "\n",
    "\n",
    "print(f'F1 score: {f1_score_forest}')\n",
    "\n",
    "print(f'Best model parameters: {model_forest}, n_estimators: {estimators}')"
   ]
  },
  {
   "cell_type": "markdown",
   "id": "10f7d3e9",
   "metadata": {},
   "source": [
    "#### 6.2) Upsampling\n",
    "    "
   ]
  },
  {
   "cell_type": "markdown",
   "id": "a1fe0f70",
   "metadata": {},
   "source": [
    "#####  6.2.a) Upsampling: Logistic regressor   "
   ]
  },
  {
   "cell_type": "code",
   "execution_count": 33,
   "id": "a117c34d",
   "metadata": {},
   "outputs": [],
   "source": [
    "#Define function to upsample\n",
    "\n",
    "\n",
    "def upsample(features, target, repeat):\n",
    "    features_zeros = features[target == 0]\n",
    "    features_ones = features[target == 1]\n",
    "    target_zeros = target[target == 0]\n",
    "    target_ones = target[target == 1]\n",
    "\n",
    "    features_upsampled = pd.concat([features_zeros] + [features_ones] * repeat)\n",
    "    target_upsampled = pd.concat([target_zeros] + [target_ones] * repeat)\n",
    "\n",
    "    features_upsampled, target_upsampled = shuffle(\n",
    "        features_upsampled, target_upsampled, random_state=12345\n",
    "    )\n",
    "\n",
    "    return features_upsampled, target_upsampled"
   ]
  },
  {
   "cell_type": "code",
   "execution_count": 34,
   "id": "b496753e",
   "metadata": {},
   "outputs": [],
   "source": [
    "#Upsample, increasing the repetiton of positive answers by 4 (recall that the ratio is 4:1)\n",
    "features_train_upsampled_ohe, target_train_upsampled = upsample(\n",
    "    features_train_ohe, target_train, 4\n",
    ")\n",
    "\n",
    "\n",
    "#Standarize feature scaling\n",
    "scaler = StandardScaler()\n",
    "scaler.fit(features_train_upsampled_ohe) \n",
    "\n",
    "features_train_upsampled_ohe_scaled= scaler.transform(features_train_upsampled_ohe)\n"
   ]
  },
  {
   "cell_type": "code",
   "execution_count": 35,
   "id": "d50472bc",
   "metadata": {},
   "outputs": [
    {
     "name": "stdout",
     "output_type": "stream",
     "text": [
      "F1 score: 0.46617647058823536\n"
     ]
    }
   ],
   "source": [
    "#Create regression model\n",
    "model_regression= LogisticRegression(random_state=12345, solver='liblinear')\n",
    "\n",
    "#Train regression model\n",
    "model_regression.fit(features_train_upsampled_ohe_scaled,target_train_upsampled)\n",
    "\n",
    "#Store predictions\n",
    "predicted_valid = model_regression.predict(features_valid_ohe_scaled)\n",
    "\n",
    "#Store probabilities assigned by the model\n",
    "probabilities_valid = model_regression.predict_proba(features_valid_ohe_scaled)\n",
    "\n",
    "#Store probabilities of class \"1\" (exited)\n",
    "probabilities_one_valid = probabilities_valid[:, 1]\n",
    "\n",
    "\n",
    "\n",
    "print(f'F1 score: {f1_score(target_valid, predicted_valid)}')\n"
   ]
  },
  {
   "cell_type": "markdown",
   "id": "12ca8a76",
   "metadata": {},
   "source": [
    "#####  6.2.b) Upsampling: Decision Tree "
   ]
  },
  {
   "cell_type": "code",
   "execution_count": 36,
   "id": "97f3ca5d",
   "metadata": {},
   "outputs": [],
   "source": [
    "#Upsample, increasing the repetiton of positive answers by 4 (recall that the ratio is 4:1)\n",
    "features_train_upsampled_ordinal, target_upsampled = upsample(\n",
    "    features_train_ordinal, target_train, 4\n",
    ")\n"
   ]
  },
  {
   "cell_type": "code",
   "execution_count": 37,
   "id": "e8a7435d",
   "metadata": {},
   "outputs": [
    {
     "name": "stdout",
     "output_type": "stream",
     "text": [
      "F1 score: 0.5638766519823788\n",
      "Best model parameters: DecisionTreeClassifier(max_depth=6, random_state=12345)\n"
     ]
    }
   ],
   "source": [
    "#Pick best parameters based on predictions made on the train set\n",
    "f1_score_tree=0\n",
    "model_tree=None\n",
    "\n",
    "for depth in range(1,15,1):\n",
    "    model= DecisionTreeClassifier(random_state=12345, max_depth= depth)\n",
    "\n",
    "    #Train decision tree model\n",
    "    model.fit(features_train_upsampled_ordinal, target_upsampled)\n",
    "\n",
    "    #Store predictions on the train set\n",
    "    predicted_valid = model.predict(features_valid_ordinal)\n",
    "\n",
    "  \n",
    "    #calculate f1 score\n",
    "    \n",
    "    f1_score_model = f1_score(target_valid, predicted_valid)\n",
    "    \n",
    "    #store the model with the highest result\n",
    "    if f1_score_model >f1_score_tree:\n",
    "        \n",
    "        model_tree= model\n",
    "        f1_score_tree= f1_score_model\n",
    "\n",
    "\n",
    "\n",
    "print(f'F1 score: {f1_score_tree}')\n",
    "\n",
    "print(f'Best model parameters: {model_tree}')"
   ]
  },
  {
   "cell_type": "markdown",
   "id": "f45144c7",
   "metadata": {},
   "source": [
    "#####  6.2.c) Upsampling: Random forest"
   ]
  },
  {
   "cell_type": "code",
   "execution_count": 38,
   "id": "c98b3d75",
   "metadata": {},
   "outputs": [
    {
     "name": "stdout",
     "output_type": "stream",
     "text": [
      "F1 score: 0.5885057471264369\n",
      "Best model parameters: RandomForestClassifier(max_depth=10, random_state=12345), n_estimators=100\n"
     ]
    }
   ],
   "source": [
    "#Pick best parameters based on predictions made on the train set\n",
    "f1_score_forest=0\n",
    "model_forest=None\n",
    "estimators=0\n",
    "for est in (80,100,10):\n",
    "\n",
    "    for depth in range(1,25,1):\n",
    "        model= RandomForestClassifier(random_state=12345, max_depth= depth, n_estimators=est)\n",
    "\n",
    "        #Train decision tree model\n",
    "        model.fit(features_train_upsampled_ordinal, target_upsampled)\n",
    "\n",
    "        #Store predictions on the train set\n",
    "        predicted_valid = model.predict(features_valid_ordinal)\n",
    "\n",
    "\n",
    "        #calculate f1 score\n",
    "\n",
    "        f1_score_model = f1_score(target_valid, predicted_valid)\n",
    "\n",
    "        #store the model with the highest result\n",
    "        if f1_score_model >f1_score_forest:\n",
    "\n",
    "            model_forest= model\n",
    "            f1_score_forest= f1_score_model\n",
    "            estimators=est\n",
    "\n",
    "\n",
    "print(f'F1 score: {f1_score_forest}')\n",
    "\n",
    "print(f'Best model parameters: {model_forest}, n_estimators={estimators}')"
   ]
  },
  {
   "cell_type": "markdown",
   "id": "d5e37c4e",
   "metadata": {},
   "source": [
    "#### 6.3) Downsampling\n",
    "    "
   ]
  },
  {
   "cell_type": "markdown",
   "id": "d9082cdb",
   "metadata": {},
   "source": [
    "#####  6.3.a) Downsampling: Logistic regressor   "
   ]
  },
  {
   "cell_type": "code",
   "execution_count": 39,
   "id": "e2a58a15",
   "metadata": {},
   "outputs": [],
   "source": [
    "#Define function to reduce the repetition of the samples with the most frequent result (exited=0)\n",
    "\n",
    "def downsample(features, target, fraction):\n",
    "    features_zeros = features[target == 0]\n",
    "    features_ones = features[target == 1]\n",
    "    target_zeros = target[target == 0]\n",
    "    target_ones = target[target == 1]\n",
    "\n",
    "    features_downsampled = pd.concat(\n",
    "        [features_zeros.sample(frac=fraction, random_state=12345)]\n",
    "        + [features_ones]\n",
    "    )\n",
    "    target_downsampled = pd.concat(\n",
    "        [target_zeros.sample(frac=fraction, random_state=12345)]\n",
    "        + [target_ones]\n",
    "    )\n",
    "\n",
    "    features_downsampled, target_downsampled = shuffle(\n",
    "        features_downsampled, target_downsampled, random_state=12345\n",
    "    )\n",
    "\n",
    "    return features_downsampled, target_downsampled"
   ]
  },
  {
   "cell_type": "code",
   "execution_count": 40,
   "id": "28973ecb",
   "metadata": {},
   "outputs": [],
   "source": [
    "\n",
    "#Upsample, increasing the repetiton of positive answers by 4 (recall that the ratio is 4:1)\n",
    "features_train_downsampled_ohe, target_train_downsampled = downsample(\n",
    "    features_train_ohe, target_train, 0.25\n",
    ")\n",
    "\n",
    "\n",
    "#Standarize feature scaling\n",
    "scaler = StandardScaler()\n",
    "scaler.fit(features_train_downsampled_ohe) \n",
    "\n",
    "features_train_downsampled_ohe_scaled= scaler.transform(features_train_downsampled_ohe)\n",
    "features_valid_ohe_scaled= scaler.transform(features_valid_ohe)"
   ]
  },
  {
   "cell_type": "code",
   "execution_count": 41,
   "id": "1b6b3958",
   "metadata": {},
   "outputs": [
    {
     "name": "stdout",
     "output_type": "stream",
     "text": [
      "F1 score: 0.4727592267135325\n"
     ]
    }
   ],
   "source": [
    "#Create regression model\n",
    "model_regression= LogisticRegression(random_state=12345, solver='liblinear')\n",
    "\n",
    "#Train regression model\n",
    "model_regression.fit(features_train_downsampled_ohe_scaled, target_train_downsampled)\n",
    "\n",
    "#Store predictions\n",
    "predicted_valid = model_regression.predict(features_valid_ohe_scaled)\n",
    "\n",
    "#Store probabilities assigned by the model\n",
    "probabilities_valid = model_regression.predict_proba(features_valid_ohe_scaled)\n",
    "\n",
    "#Store probabilities of class \"1\" (exited)\n",
    "probabilities_one_valid = probabilities_valid[:, 1]\n",
    "\n",
    "\n",
    "print(f'F1 score: {f1_score(target_valid, predicted_valid)}')\n",
    "\n"
   ]
  },
  {
   "cell_type": "markdown",
   "id": "17991591",
   "metadata": {},
   "source": [
    "#####  6.3.b) Downsampling: Decision Tree "
   ]
  },
  {
   "cell_type": "code",
   "execution_count": 42,
   "id": "45c2785a",
   "metadata": {},
   "outputs": [],
   "source": [
    "#Downsample, reducing the repetiton of positive answers by 4 (recall that the ratio is 4:1)\n",
    "features_train_ordinal_downsampled, target_train_downsampled = downsample(\n",
    "    features_train_ordinal, target_train, 0.25\n",
    ")\n"
   ]
  },
  {
   "cell_type": "code",
   "execution_count": 43,
   "id": "732bb40d",
   "metadata": {},
   "outputs": [
    {
     "name": "stdout",
     "output_type": "stream",
     "text": [
      "F1 score: 0.5272145144076841\n",
      "Best model parameters: DecisionTreeClassifier(max_depth=6, random_state=12345)\n"
     ]
    }
   ],
   "source": [
    "#Pick best parameters based on predictions made on the train set\n",
    "f1_score_tree=0\n",
    "model_tree=None\n",
    "\n",
    "for depth in range(1,15,1):\n",
    "    model= DecisionTreeClassifier(random_state=12345, max_depth= depth)\n",
    "\n",
    "    #Train decision tree model\n",
    "    model.fit(features_train_ordinal_downsampled, target_train_downsampled)\n",
    "\n",
    "    #Store predictions on the train set\n",
    "    predicted_valid= model.predict(features_valid_ordinal)\n",
    "\n",
    "  \n",
    "    #calculate f1 score\n",
    "    \n",
    "    f1_score_model = f1_score(target_valid, predicted_valid)\n",
    "    \n",
    "    #store the model with the highest result\n",
    "    if f1_score_model >f1_score_tree:\n",
    "        \n",
    "        model_tree= model\n",
    "        f1_score_tree= f1_score_model\n",
    "\n",
    "\n",
    "\n",
    "print(f'F1 score: {f1_score_tree}')\n",
    "\n",
    "print(f'Best model parameters: {model_tree}')"
   ]
  },
  {
   "cell_type": "markdown",
   "id": "df7785b6",
   "metadata": {},
   "source": [
    "#####  6.3.c) Downsampling: Random forest"
   ]
  },
  {
   "cell_type": "code",
   "execution_count": 44,
   "id": "f17bdf12",
   "metadata": {},
   "outputs": [
    {
     "name": "stdout",
     "output_type": "stream",
     "text": [
      "F1 score: 0.5671641791044776\n",
      "Best model parameters: RandomForestClassifier(max_depth=7, random_state=12345), n_estimators=100\n"
     ]
    }
   ],
   "source": [
    "#Pick best parameters based on predictions made on the train set\n",
    "f1_score_forest=0\n",
    "model_forest=None\n",
    "estimators=0\n",
    "for est in (80,100,10):\n",
    "\n",
    "    for depth in range(1,25,1):\n",
    "        model= RandomForestClassifier(random_state=12345, max_depth= depth, n_estimators=est)\n",
    "\n",
    "        #Train decision tree model\n",
    "        model.fit(features_train_ordinal_downsampled, target_train_downsampled)\n",
    "\n",
    "        #Store predictions on the train set\n",
    "        predicted_valid = model.predict(features_valid_ordinal)\n",
    "\n",
    "\n",
    "        #calculate f1 score\n",
    "\n",
    "        f1_score_model = f1_score(target_valid, predicted_valid)\n",
    "\n",
    "        #store the model with the highest result\n",
    "        if f1_score_model >f1_score_forest:\n",
    "\n",
    "            model_forest= model\n",
    "            f1_score_forest= f1_score_model\n",
    "            estimators=est\n",
    "\n",
    "\n",
    "print(f'F1 score: {f1_score_forest}')\n",
    "\n",
    "print(f'Best model parameters: {model_forest}, n_estimators={estimators}')"
   ]
  },
  {
   "cell_type": "markdown",
   "id": "9f2af125",
   "metadata": {},
   "source": [
    "**CONCLUSION: WE ACHIEVED THE HIGHEST F1 SCORE (0.59) ON THE VALIDATION SET, USING THE UPSAMPLING METHOD ON A RANDOM FOREST CLASSIFIER WITH THE FOLLOWING HYPERPARAMETERS:**\n",
    "\n",
    "\n",
    "** RandomForestClassifier(max_depth=10, random_state=12345), n_estimators=100: F1 score= 0.59**\n",
    "\n",
    "\n",
    "**Results summary:**\n",
    "\n",
    "\n",
    "***class_weight adj:***\n",
    "\n",
    "\n",
    "Logistic regressor: F1 score= 0.48\n",
    "\n",
    "DecisionTreeClassifier(class_weight='balanced', max_depth=6, random_state=12345): F1 score= 0.56\n",
    "\n",
    "RandomForestClassifier(class_weight='balanced', max_depth=11, n_estimators=100, random_state=12345):F1 score= 0.58\n",
    "\n",
    "\n",
    "***Upsampling:***\n",
    "\n",
    "\n",
    "Logistic regressor: F1 score= 0.47\n",
    "\n",
    "DecisionTreeClassifier(max_depth=6, random_state=12345): F1 score= 0.56\n",
    "\n",
    "RandomForestClassifier(max_depth=13, n_estimators=100, random_state=12345): F1 score= 0.59\n",
    "\n",
    "\n",
    "***Downsampling:***\n",
    "\n",
    "\n",
    "Logistic regressor: F1 score= 0.47\n",
    "\n",
    "DecisionTreeClassifier(max_depth=6, random_state=12345): F1 score= 0.53\n",
    "\n",
    "RandomForestClassifier(max_depth=10, n_estimators=100, random_state=12345): F1 score= 0.57\n"
   ]
  },
  {
   "cell_type": "markdown",
   "id": "63548f44",
   "metadata": {},
   "source": [
    "## 7) Perform the final testing.\n",
    "\n",
    "Now that we have selected the best performing model and class balancing technique using the train & validation sets to train the model, and the test set to assess the f1 score achieved.\n",
    "\n"
   ]
  },
  {
   "cell_type": "code",
   "execution_count": 45,
   "id": "13d4f7f3",
   "metadata": {},
   "outputs": [
    {
     "name": "stdout",
     "output_type": "stream",
     "text": [
      "Precision score: 0.5706214689265536\n",
      "Recall score: 0.7096018735362998\n",
      "F1 score: 0.6325678496868475\n",
      "AUC-ROC: 0.8617448125644847\n",
      "Confusion matrix:\n",
      "[[True Negative, False Positive]\n",
      "[False Negative, True Positive]]\n",
      "[[1345  228]\n",
      " [ 124  303]]\n"
     ]
    }
   ],
   "source": [
    "\n",
    "#Separate features and target (Ordinal encoding)\n",
    "\n",
    "target= df_ordinal['exited']\n",
    "features_ordinal= df_ordinal.drop(['exited'], axis=1)\n",
    "\n",
    "\n",
    "#Split the source data into three sets using the ratio of 60:20:20\n",
    "\n",
    "features_train_ordinal, features_test_ordinal, target_train,target_test = train_test_split(features_ordinal, target, test_size=0.20,random_state=12345)\n",
    "\n",
    "\n",
    "\n",
    "#Upsample, increasing the repetiton of positive answers by 4 (recall that the ratio is 4:1)\n",
    "features_train_ordinal_upsampled, target_train_upsampled = upsample(\n",
    "   features_train_ordinal, target_train, 4\n",
    ")\n",
    "\n",
    "#Define the final model\n",
    "final_model= RandomForestClassifier(max_depth=10, n_estimators=100, random_state=12345)\n",
    "\n",
    "#train the final model using the \n",
    "final_model.fit(features_train_ordinal_upsampled, target_train_upsampled)\n",
    "\n",
    "#make predictions on the test set\n",
    "\n",
    "predicted_test= final_model.predict(features_test_ordinal)\n",
    "\n",
    "#Store probabilities assigned by the model\n",
    "probabilities_test = model_forest.predict_proba(features_test_ordinal)\n",
    "\n",
    "#Store probabilities of class \"1\" (exited)\n",
    "probabilities_one_test = probabilities_test[:, 1]\n",
    "\n",
    "\n",
    "\n",
    "print(f'Precision score: {precision_score(target_test, predicted_test)}')\n",
    "print(f'Recall score: {recall_score(target_test, predicted_test)}')\n",
    "print(f'F1 score: {f1_score(target_test, predicted_test)}')\n",
    "print(f'AUC-ROC: {roc_auc_score(target_test, probabilities_one_test)}')\n",
    "print(f'Confusion matrix:\\n[[True Negative, False Positive]\\n[False Negative, True Positive]]')\n",
    "print(confusion_matrix(target_test, predicted_test))\n",
    "\n"
   ]
  },
  {
   "cell_type": "code",
   "execution_count": 46,
   "id": "bf8fe452",
   "metadata": {},
   "outputs": [
    {
     "data": {
      "image/png": "[encoded data removed]",
      "text/plain": [
       "<Figure size 432x432 with 1 Axes>"
      ]
     },
     "metadata": {
      "needs_background": "light"
     },
     "output_type": "display_data"
    }
   ],
   "source": [
    "#Plot the precision recall curve\n",
    "precision, recall, thresholds = precision_recall_curve(\n",
    "    target_test, probabilities_one_test\n",
    ")\n",
    "\n",
    "plt.figure(figsize=(6, 6))\n",
    "plt.step(recall, precision, where='post')\n",
    "plt.xlabel('Recall')\n",
    "plt.ylabel('Precision')\n",
    "plt.ylim([0.0, 1.05])\n",
    "plt.xlim([0.0, 1.0])\n",
    "plt.title('Precision-Recall Curve')\n",
    "plt.show() \n"
   ]
  },
  {
   "cell_type": "code",
   "execution_count": 47,
   "id": "e0426c14",
   "metadata": {},
   "outputs": [
    {
     "data": {
      "image/png": "[encoded data removed]",
      "text/plain": [
       "<Figure size 432x288 with 1 Axes>"
      ]
     },
     "metadata": {
      "needs_background": "light"
     },
     "output_type": "display_data"
    }
   ],
   "source": [
    "#Plot the ROC Curve for the regression model vs. for random model\n",
    "\n",
    "fpr, tpr, thresh = roc_curve(target_test,probabilities_one_test)\n",
    "\n",
    "plt.clf()\n",
    "# ROC curve for random model (looks like a straight line)\n",
    "plt.plot([0, 1], [0, 1], linestyle='--')\n",
    "\n",
    "# < plot the graph >\n",
    "plt.plot(fpr, tpr)\n",
    "\n",
    "# < use the functions plt.xlim() and plt.ylim() to\n",
    "#   set the boundary for the axes from 0 to 1 >\n",
    "plt.ylim([0.0, 1.0])\n",
    "plt.xlim([0.0, 1.0])\n",
    "\n",
    "# < use the functions plt.xlabel() and plt.ylabel() to\n",
    "#   name the axes \"False Positive Rate\" and \"True Positive Rate\" >\n",
    "\n",
    "\n",
    "plt.xlabel('FPR')\n",
    "plt.ylabel('TPR')\n",
    "\n",
    "# < add the heading \"ROC curve\" with the function plt.title() >\n",
    "plt.title('ROC curve')\n",
    "plt.show()\n",
    "\n"
   ]
  },
  {
   "cell_type": "markdown",
   "id": "b3f00d20",
   "metadata": {},
   "source": [
    "### CONCLUSION \n",
    "\n",
    "After importing the dataset, fixing missing values, renaming columns, and removing those that didn't contain observations with any potential impact on the customer exiting the bank or not (Surname, row nº, and Customer ID), we detected classes were unbalanced, with the negative class (0- did not exit) being 4 times more frequent than the positive class (1-exited). \n",
    "\n",
    "Before balancing the classes, we built a Linear Regressor, Decision tree and Random Forest model and after encoding categorical columns (using OHE for regression and Label encoding for tree-based models), we used the training and validation set (the original dataset was split into train set (60%), validation set(20%) and test set (20%)) to calculate Precision, recall, F1 score and AUC-ROC score. We also plotted the ROC curve as compared to that of the random model, and the PR curve (precision-recall).\n",
    "\n",
    "Provided that the classes were unbalanced, we achieved a high precision but recall was too low as to allow F1 score to be above the minimum set for accepting the model (0.59). This is due to them being too pesimistic as a consequence of having seen too many negative answers, and therefore making negative predictions where they shouldn't (False negatives were too high [RECALL = TP/(TP+FN)].\n",
    "\n",
    "Moving forward, we proceeded to tackle class imbalance trying three different methods: class_weight='balanced', upsampling and downsampling.\n",
    "\n",
    "Employing the train and validation set, we calculated the f1 score achieved by each of the models (tunning hyperparameters to get the highest possible score in tree-based models), and managed to find out that the Random Forest Regressor with 100 estimators and a max_depth of 10, did pass the 0.59 F1 score for the test set when balacing classes through the \"Upsampling\" method (since the ratio of negative:positive was 4:1, we increased the positive class 4 times)\n",
    "\n",
    "The final step was to use that model and balancing method to make predictions on the test set. The F1 score turned out to be 0.63, and the AUC-ROC (0.86) also improved as compared to that achieved by the models trained before balancing classes, meaning that the area under curve is greater than the one of the random model (0.50).\n",
    "\n",
    "\n"
   ]
  }
 ],
 "metadata": {
  "kernelspec": {
   "display_name": "Python 3 (ipykernel)",
   "language": "python",
   "name": "python3"
  },
  "language_info": {
   "codemirror_mode": {
    "name": "ipython",
    "version": 3
   },
   "file_extension": ".py",
   "mimetype": "text/x-python",
   "name": "python",
   "nbconvert_exporter": "python",
   "pygments_lexer": "ipython3",
   "version": "3.9.7"
  },
  "toc": {
   "base_numbering": 1,
   "nav_menu": {},
   "number_sections": true,
   "sideBar": true,
   "skip_h1_title": true,
   "title_cell": "Table of Contents",
   "title_sidebar": "Contents",
   "toc_cell": false,
   "toc_position": {},
   "toc_section_display": true,
   "toc_window_display": false
  }
 },
 "nbformat": 4,
 "nbformat_minor": 5
}
